{
 "cells": [
  {
   "cell_type": "markdown",
   "metadata": {},
   "source": [
    "# Objective- Implement SGD to Linear Regression"
   ]
  },
  {
   "cell_type": "markdown",
   "metadata": {},
   "source": [
    "About the dataset-\n",
    "--------------------\n",
    "\n",
    "Boston House Prices dataset\n",
    "---------------------------\n",
    "\n",
    "Notes\n",
    "------\n",
    "Data Set Characteristics:  \n",
    "\n",
    "    :Number of Instances: 506 \n",
    "\n",
    "    :Number of Attributes: 13 numeric/categorical predictive\n",
    "    \n",
    "    :Median Value (attribute 14) is usually the target\n",
    "\n",
    "    :Attribute Information (in order):\n",
    "        - CRIM     per capita crime rate by town\n",
    "        - ZN       proportion of residential land zoned for lots over 25,000 sq.ft.\n",
    "        - INDUS    proportion of non-retail business acres per town\n",
    "        - CHAS     Charles River dummy variable (= 1 if tract bounds river; 0 otherwise)\n",
    "        - NOX      nitric oxides concentration (parts per 10 million)\n",
    "        - RM       average number of rooms per dwelling\n",
    "        - AGE      proportion of owner-occupied units built prior to 1940\n",
    "        - DIS      weighted distances to five Boston employment centres\n",
    "        - RAD      index of accessibility to radial highways\n",
    "        - TAX      full-value property-tax rate per $10,000\n",
    "        - PTRATIO  pupil-teacher ratio by town\n",
    "        - B        1000(Bk - 0.63)^2 where Bk is the proportion of blacks by town\n",
    "        - LSTAT    % lower status of the population\n",
    "        - MEDV     Median value of owner-occupied homes in $1000's\n",
    "\n",
    "    :Missing Attribute Values: None\n",
    "\n",
    "    :Creator: Harrison, D. and Rubinfeld, D.L.\n",
    "\n",
    "This is a copy of UCI ML housing dataset.\n",
    "http://archive.ics.uci.edu/ml/datasets/Housing\n",
    "\n",
    "\n",
    "This dataset was taken from the StatLib library which is maintained at Carnegie Mellon University.\n",
    "\n",
    "The Boston house-price data of Harrison, D. and Rubinfeld, D.L. 'Hedonic\n",
    "prices and the demand for clean air', J. Environ. Economics & Management,\n",
    "vol.5, 81-102, 1978.   Used in Belsley, Kuh & Welsch, 'Regression diagnostics\n",
    "...', Wiley, 1980.   N.B. Various transformations are used in the table on\n",
    "pages 244-261 of the latter.\n",
    "\n",
    "The Boston house-price data has been used in many machine learning papers that address regression\n",
    "problems.   \n",
    "     \n",
    "**References**\n",
    "\n",
    "   - Belsley, Kuh & Welsch, 'Regression diagnostics: Identifying Influential Data and Sources of Collinearity', Wiley, 1980. 244-261.\n",
    "   - Quinlan,R. (1993). Combining Instance-Based and Model-Based Learning. In Proceedings on the Tenth International Conference of Machine Learning, 236-243, University of Massachusetts, Amherst. Morgan Kaufmann.\n",
    "   - many more! (see http://archive.ics.uci.edu/ml/datasets/Housing)\n"
   ]
  },
  {
   "cell_type": "code",
   "execution_count": 76,
   "metadata": {},
   "outputs": [],
   "source": [
    "import warnings\n",
    "warnings.filterwarnings('ignore')"
   ]
  },
  {
   "cell_type": "code",
   "execution_count": 77,
   "metadata": {},
   "outputs": [],
   "source": [
    "import numpy as np\n",
    "from sklearn.preprocessing import StandardScaler\n",
    "from sklearn.cross_validation import train_test_split"
   ]
  },
  {
   "cell_type": "code",
   "execution_count": 78,
   "metadata": {},
   "outputs": [],
   "source": [
    "# loading boston datasets\n",
    "from sklearn.datasets import load_boston\n",
    "import pandas as pd\n",
    "boston=load_boston()"
   ]
  },
  {
   "cell_type": "code",
   "execution_count": 79,
   "metadata": {},
   "outputs": [],
   "source": [
    "# spliting the data into train and test\n",
    "\n",
    "pd_boston=pd.DataFrame(data=boston.data)\n",
    "price=boston.target\n",
    "train_data, test_data, train_y, test_y=train_test_split(pd_boston, price, test_size=0.33, random_state=5)"
   ]
  },
  {
   "cell_type": "code",
   "execution_count": 80,
   "metadata": {},
   "outputs": [],
   "source": [
    "# applying column standardization on train and test data\n",
    "\n",
    "s=StandardScaler()\n",
    "train_data=s.fit_transform(np.array(train_data))\n",
    "test_data=s.transform(np.array(test_data))\n"
   ]
  },
  {
   "cell_type": "code",
   "execution_count": 81,
   "metadata": {},
   "outputs": [],
   "source": [
    "#preparing training data for manual sgd regressor\n",
    "manual_train=pd.DataFrame(data=train_data)\n",
    "manual_train['price']=train_y\n"
   ]
  },
  {
   "cell_type": "code",
   "execution_count": 82,
   "metadata": {},
   "outputs": [
    {
     "data": {
      "text/html": [
       "<div>\n",
       "<style>\n",
       "    .dataframe thead tr:only-child th {\n",
       "        text-align: right;\n",
       "    }\n",
       "\n",
       "    .dataframe thead th {\n",
       "        text-align: left;\n",
       "    }\n",
       "\n",
       "    .dataframe tbody tr th {\n",
       "        vertical-align: top;\n",
       "    }\n",
       "</style>\n",
       "<table border=\"1\" class=\"dataframe\">\n",
       "  <thead>\n",
       "    <tr style=\"text-align: right;\">\n",
       "      <th></th>\n",
       "      <th>0</th>\n",
       "      <th>1</th>\n",
       "      <th>2</th>\n",
       "      <th>3</th>\n",
       "      <th>4</th>\n",
       "      <th>5</th>\n",
       "      <th>6</th>\n",
       "      <th>7</th>\n",
       "      <th>8</th>\n",
       "      <th>9</th>\n",
       "      <th>10</th>\n",
       "      <th>11</th>\n",
       "      <th>12</th>\n",
       "      <th>price</th>\n",
       "    </tr>\n",
       "  </thead>\n",
       "  <tbody>\n",
       "    <tr>\n",
       "      <th>0</th>\n",
       "      <td>0.911839</td>\n",
       "      <td>-0.502419</td>\n",
       "      <td>1.072305</td>\n",
       "      <td>-0.256978</td>\n",
       "      <td>1.633548</td>\n",
       "      <td>0.486034</td>\n",
       "      <td>0.962774</td>\n",
       "      <td>-0.823477</td>\n",
       "      <td>1.655334</td>\n",
       "      <td>1.552100</td>\n",
       "      <td>0.808078</td>\n",
       "      <td>-2.842959</td>\n",
       "      <td>1.523203</td>\n",
       "      <td>13.4</td>\n",
       "    </tr>\n",
       "    <tr>\n",
       "      <th>1</th>\n",
       "      <td>-0.411727</td>\n",
       "      <td>-0.502419</td>\n",
       "      <td>-1.129795</td>\n",
       "      <td>-0.256978</td>\n",
       "      <td>-0.552451</td>\n",
       "      <td>1.028078</td>\n",
       "      <td>0.668619</td>\n",
       "      <td>-0.183274</td>\n",
       "      <td>-0.871371</td>\n",
       "      <td>-0.802704</td>\n",
       "      <td>-0.304174</td>\n",
       "      <td>0.427436</td>\n",
       "      <td>-0.995240</td>\n",
       "      <td>23.6</td>\n",
       "    </tr>\n",
       "    <tr>\n",
       "      <th>2</th>\n",
       "      <td>0.124583</td>\n",
       "      <td>-0.502419</td>\n",
       "      <td>1.072305</td>\n",
       "      <td>-0.256978</td>\n",
       "      <td>1.441946</td>\n",
       "      <td>-3.913414</td>\n",
       "      <td>0.725324</td>\n",
       "      <td>-1.075955</td>\n",
       "      <td>1.655334</td>\n",
       "      <td>1.552100</td>\n",
       "      <td>0.808078</td>\n",
       "      <td>-0.053353</td>\n",
       "      <td>-0.765646</td>\n",
       "      <td>27.5</td>\n",
       "    </tr>\n",
       "  </tbody>\n",
       "</table>\n",
       "</div>"
      ],
      "text/plain": [
       "          0         1         2         3         4         5         6  \\\n",
       "0  0.911839 -0.502419  1.072305 -0.256978  1.633548  0.486034  0.962774   \n",
       "1 -0.411727 -0.502419 -1.129795 -0.256978 -0.552451  1.028078  0.668619   \n",
       "2  0.124583 -0.502419  1.072305 -0.256978  1.441946 -3.913414  0.725324   \n",
       "\n",
       "          7         8         9        10        11        12  price  \n",
       "0 -0.823477  1.655334  1.552100  0.808078 -2.842959  1.523203   13.4  \n",
       "1 -0.183274 -0.871371 -0.802704 -0.304174  0.427436 -0.995240   23.6  \n",
       "2 -1.075955  1.655334  1.552100  0.808078 -0.053353 -0.765646   27.5  "
      ]
     },
     "execution_count": 82,
     "metadata": {},
     "output_type": "execute_result"
    }
   ],
   "source": [
    "manual_train.head(3)"
   ]
  },
  {
   "cell_type": "code",
   "execution_count": 83,
   "metadata": {},
   "outputs": [],
   "source": [
    "# converting to numpy array, which will be available for both SGDRegressor of sklearn and manual sgd regressor\n",
    "test_data=np.array(test_data)\n",
    "test_y=np.array(test_y)"
   ]
  },
  {
   "cell_type": "code",
   "execution_count": 84,
   "metadata": {},
   "outputs": [],
   "source": [
    "results=pd.DataFrame(columns=['sno', 'algo', 'alpha', 'lr_rate_variation', 'init_lr_rate', 'power_t', 'n_iter', 'error'])"
   ]
  },
  {
   "cell_type": "code",
   "execution_count": null,
   "metadata": {},
   "outputs": [],
   "source": []
  },
  {
   "cell_type": "markdown",
   "metadata": {},
   "source": [
    "#  Experiment-1 ----SGDRegressor vs manual sgd\n",
    "* fixing initial learning rate to 0.01, and making it constant and changing number of iteration\n"
   ]
  },
  {
   "cell_type": "code",
   "execution_count": 85,
   "metadata": {},
   "outputs": [],
   "source": [
    "b_diff=[]\n",
    "w_num=[]"
   ]
  },
  {
   "cell_type": "code",
   "execution_count": 86,
   "metadata": {},
   "outputs": [],
   "source": [
    "import seaborn as sns\n",
    "import numpy as np\n",
    "from sklearn.linear_model import SGDRegressor\n",
    "from sklearn.metrics import mean_squared_error\n",
    "import matplotlib.pyplot as plt\n",
    "%matplotlib inline"
   ]
  },
  {
   "cell_type": "code",
   "execution_count": 87,
   "metadata": {},
   "outputs": [],
   "source": [
    "#the functioning of this function is to use sklearn SGDRegressor and predict the price\n",
    "#this function takes alpha, learning rate variation , initial learning rate(eta0), number of iteration , power_t, and all test and train data as an argument\n",
    "#this function returns weight, intercept and mean squared error\n",
    "def sklearn_sgd(alpha, lr_rate_variation, eta0=0.01, power_t=0.25, n_iter=100, train_data=train_data, test_data=test_data, train_y=train_y, test_y=test_y):\n",
    "    clf=SGDRegressor(alpha=alpha, penalty=None, learning_rate=lr_rate_variation, eta0=eta0, power_t=power_t, n_iter=n_iter)\n",
    "    clf.fit(train_data, train_y)\n",
    "    y_pred=clf.predict(test_data)\n",
    "    \n",
    "    #scatter plot\n",
    "    plt.scatter(test_y,y_pred)\n",
    "    plt.title('scatter plot between actual y and predicted y')\n",
    "    plt.xlabel('actual y')\n",
    "    plt.ylabel('predicted y')\n",
    "    plt.grid(b=True, linewidth=0.5)\n",
    "    plt.show()\n",
    "    print('***********************************************************')\n",
    "    \n",
    "    #kdeplot\n",
    "    \n",
    "       \n",
    "    sgd_error=mean_squared_error(test_y,y_pred)\n",
    "    print('mean sq error=', sgd_error)\n",
    "    print('number of iteration=', n_iter)\n",
    "    \n",
    "    return clf.coef_, clf.intercept_, sgd_error\n",
    "    \n"
   ]
  },
  {
   "cell_type": "markdown",
   "metadata": {},
   "source": [
    "### 1.1 SGDRegressor, n_iter=1, lr_rate=0.01, lr_rate_variation='constant'"
   ]
  },
  {
   "cell_type": "code",
   "execution_count": 88,
   "metadata": {},
   "outputs": [
    {
     "data": {
      "image/png": "[encoded data removed]",
      "text/plain": [
       "<matplotlib.figure.Figure at 0x3fff2d0c5c88>"
      ]
     },
     "metadata": {},
     "output_type": "display_data"
    },
    {
     "name": "stdout",
     "output_type": "stream",
     "text": [
      "***********************************************************\n",
      "mean sq error= 32.4694319228102\n",
      "number of iteration= 1\n"
     ]
    }
   ],
   "source": [
    "w_sgd, b_sgd, error_sgd=sklearn_sgd(alpha=0.0001, lr_rate_variation='constant', eta0=0.01, n_iter=1)"
   ]
  },
  {
   "cell_type": "code",
   "execution_count": 89,
   "metadata": {},
   "outputs": [],
   "source": [
    "new=[1, 'SGDRegressor', 0.0001, 'constant', 0.01, 0.25, 1, error_sgd]\n",
    "results.loc[0]=new"
   ]
  },
  {
   "cell_type": "code",
   "execution_count": null,
   "metadata": {},
   "outputs": [],
   "source": []
  },
  {
   "cell_type": "markdown",
   "metadata": {},
   "source": [
    "### 1.2 manual sgd, n_iter=1, lr_rate=0.01, lr_rate_variation='constant'"
   ]
  },
  {
   "cell_type": "code",
   "execution_count": 90,
   "metadata": {},
   "outputs": [],
   "source": [
    "# this function is a simple implementation of sgd to linear regression, here we didn't use any regularization\n",
    "# we need to provide the pandas data with price, initial learning rate , and learning rate variation, number of iteration\n",
    "# here we have implemented constant learning rate and invscaling learning rate\n",
    "# checking the significant difference in loss i.e stopping condition might take lots of time so here we fix the number of loop \n",
    "# this function returns weight (w) and bias (b)\n",
    "# here we have taken sgd with batch size=10\n",
    "def manual_fit(X, lr_rate_variation, alpha=0.0001, lr_rate=0.01, power_t=0.25, n_iter=100):\n",
    "    w_new=np.zeros(shape=(1,13))\n",
    "    b_new=0\n",
    "    t=1\n",
    "    r=lr_rate\n",
    "    \n",
    "    while(t<=n_iter):\n",
    "        w_old=w_new\n",
    "        b_old=b_new\n",
    "        w_=np.zeros(shape=(1,13))\n",
    "        b_=0\n",
    "        x_data=X.sample(10)\n",
    "        x=np.array(x_data.drop('price',axis=1))\n",
    "        y=np.array(x_data['price'])\n",
    "        \n",
    "        \n",
    "        for i in range(10):  # for getting the derivatives using sgd with k=10\n",
    "            y_curr=np.dot(w_old,x[i])+b_old\n",
    "            w_+=x[i] * (y[i] - y_curr)\n",
    "            b_+=(y[i]-y_curr)\n",
    "            \n",
    "            \n",
    "        w_*=(-2/x.shape[0])\n",
    "        b_*=(-2/x.shape[0])\n",
    "        \n",
    "        #updating the parameters\n",
    "        w_new=(w_old-r*w_)\n",
    "        b_new=(b_old-r*b_)\n",
    "        \n",
    "        \n",
    "        if(lr_rate_variation=='invscaling'):\n",
    "            r = lr_rate / pow(t, power_t)\n",
    "        t+=1\n",
    "        \n",
    "    return w_new, b_new\n",
    "\n",
    "\n",
    "\n",
    "def pred(x,w, b):\n",
    "    y_pred=[]\n",
    "    for i in range(len(x)):\n",
    "        y=np.asscalar(np.dot(w,x[i])+b)\n",
    "        y_pred.append(y)\n",
    "    return np.array(y_pred)\n",
    "\n",
    "\n",
    "def plot_(test_data,y_pred):\n",
    "    #scatter plot\n",
    "    plt.scatter(test_y,y_pred)\n",
    "    plt.grid(b=True, linewidth=0.3)\n",
    "    plt.title('scatter plot between actual y and predicted y')\n",
    "    plt.xlabel('actual y')\n",
    "    plt.ylabel('predicted y')\n",
    "    plt.show()\n",
    "    print('**************************************************************')\n",
    "    \n",
    "    \n",
    "       \n",
    "    manual_error=mean_squared_error(test_y,y_pred)\n",
    "    print('error=',manual_error)\n",
    "    \n",
    "    return manual_error\n"
   ]
  },
  {
   "cell_type": "code",
   "execution_count": null,
   "metadata": {},
   "outputs": [],
   "source": []
  },
  {
   "cell_type": "code",
   "execution_count": 91,
   "metadata": {},
   "outputs": [],
   "source": [
    "\n",
    "w, b=manual_fit(X=manual_train, lr_rate_variation='constant' , n_iter=1)"
   ]
  },
  {
   "cell_type": "code",
   "execution_count": 92,
   "metadata": {},
   "outputs": [],
   "source": [
    "y_pred=pred(test_data, w=w, b=b)"
   ]
  },
  {
   "cell_type": "code",
   "execution_count": 93,
   "metadata": {},
   "outputs": [
    {
     "data": {
      "image/png": "[encoded data removed]",
      "text/plain": [
       "<matplotlib.figure.Figure at 0x3fff2d1bb128>"
      ]
     },
     "metadata": {},
     "output_type": "display_data"
    },
    {
     "name": "stdout",
     "output_type": "stream",
     "text": [
      "**************************************************************\n",
      "error= 581.624165381566\n"
     ]
    }
   ],
   "source": [
    "manual_error=plot_(test_data,y_pred)"
   ]
  },
  {
   "cell_type": "code",
   "execution_count": 94,
   "metadata": {},
   "outputs": [],
   "source": [
    "new=[2, 'manual sgd', 0.0001, 'constant', 0.01, 0.25, 1, manual_error]\n",
    "results.loc[1]=new"
   ]
  },
  {
   "cell_type": "code",
   "execution_count": 95,
   "metadata": {},
   "outputs": [
    {
     "name": "stdout",
     "output_type": "stream",
     "text": [
      "sklearn sgd weight---\n",
      " [-0.77008046  0.42065046 -0.25558241 -0.24505272 -0.66806225  2.91767122\n",
      " -0.36144425 -2.17215701  0.76521321 -0.58565128 -2.26093013  0.66030604\n",
      " -3.02096064]\n",
      "*********************************************************************************\n",
      "manual sgd weight---\n",
      " [[-0.08355681 -0.08929878  0.03343449  0.06242365 -0.03662863 -0.1098788\n",
      "  -0.11197472 -0.04678205 -0.06058561 -0.11706459  0.14065918  0.15133454\n",
      "  -0.11639935]]\n"
     ]
    }
   ],
   "source": [
    "print('sklearn sgd weight---\\n',w_sgd)\n",
    "print('*********************************************************************************')\n",
    "print('manual sgd weight---\\n',w)"
   ]
  },
  {
   "cell_type": "code",
   "execution_count": 96,
   "metadata": {},
   "outputs": [
    {
     "name": "stdout",
     "output_type": "stream",
     "text": [
      "number of points more than 30% in percent= 13\n"
     ]
    }
   ],
   "source": [
    "percent=abs((w_sgd-w)/w)*100\n",
    "cnt=0\n",
    "for i in range(13):\n",
    "    if (percent[0][i]>30):\n",
    "        cnt+=1\n",
    "w_num.append(cnt)\n",
    "print('number of points more than 30% in percent=',cnt)"
   ]
  },
  {
   "cell_type": "code",
   "execution_count": 97,
   "metadata": {},
   "outputs": [
    {
     "name": "stdout",
     "output_type": "stream",
     "text": [
      "sklearn sgd intercept= [21.75070444]\n",
      "manual sgd intercept= [0.4254]\n"
     ]
    }
   ],
   "source": [
    "print('sklearn sgd intercept=',b_sgd)\n",
    "print('manual sgd intercept=',b)\n",
    "b_diff.append(abs(b_sgd-b))"
   ]
  },
  {
   "cell_type": "code",
   "execution_count": null,
   "metadata": {},
   "outputs": [],
   "source": []
  },
  {
   "cell_type": "code",
   "execution_count": null,
   "metadata": {},
   "outputs": [],
   "source": []
  },
  {
   "cell_type": "markdown",
   "metadata": {},
   "source": [
    "### 1.3 SGDRegressor, n_iter=100, lr_rate=0.01, lr_rate_variation='constant'"
   ]
  },
  {
   "cell_type": "code",
   "execution_count": 98,
   "metadata": {},
   "outputs": [
    {
     "data": {
      "image/png": "[encoded data removed]",
      "text/plain": [
       "<matplotlib.figure.Figure at 0x3fff2d12deb8>"
      ]
     },
     "metadata": {},
     "output_type": "display_data"
    },
    {
     "name": "stdout",
     "output_type": "stream",
     "text": [
      "***********************************************************\n",
      "mean sq error= 26.421014310724512\n",
      "number of iteration= 100\n"
     ]
    }
   ],
   "source": [
    "w_sgd, b_sgd, error_sgd=sklearn_sgd(alpha=0.0001, lr_rate_variation='constant', eta0=0.01, n_iter=100)"
   ]
  },
  {
   "cell_type": "code",
   "execution_count": 99,
   "metadata": {},
   "outputs": [],
   "source": [
    "new=[3, 'SGDRegressor', 0.0001, 'constant', 0.01, 0.25, 100, error_sgd]\n",
    "results.loc[2]=new"
   ]
  },
  {
   "cell_type": "markdown",
   "metadata": {},
   "source": [
    "### 1.4 manual sgd, n_iter=100, lr_rate=0.01, lr_rate_variation='constant'"
   ]
  },
  {
   "cell_type": "code",
   "execution_count": 100,
   "metadata": {},
   "outputs": [
    {
     "data": {
      "image/png": "[encoded data removed]",
      "text/plain": [
       "<matplotlib.figure.Figure at 0x3fff2ce8b5f8>"
      ]
     },
     "metadata": {},
     "output_type": "display_data"
    },
    {
     "name": "stdout",
     "output_type": "stream",
     "text": [
      "**************************************************************\n",
      "error= 40.9308974983889\n"
     ]
    }
   ],
   "source": [
    "\n",
    "w, b=manual_fit(X=manual_train, lr_rate_variation='constant' , n_iter=100)\n",
    "y_pred=pred(test_data, w=w, b=b)\n",
    "manual_error=plot_(test_data,y_pred)"
   ]
  },
  {
   "cell_type": "code",
   "execution_count": 101,
   "metadata": {},
   "outputs": [
    {
     "name": "stdout",
     "output_type": "stream",
     "text": [
      "sklearn sgd weight---\n",
      " [-1.1371407   0.99874755  0.14161615  0.82448679 -1.40394899  2.80182323\n",
      " -0.33442715 -2.83317463  3.18843639 -1.92079597 -1.94073416  1.06314335\n",
      " -3.28030336]\n",
      "*********************************************************************************\n",
      "manual sgd weight---\n",
      " [[-0.89886694  0.29481971 -1.19493164  0.37709722 -0.18391089  3.02874083\n",
      "  -0.64268846 -2.17634777  0.49062769 -0.45743251 -1.63743473  1.11168167\n",
      "  -3.19637659]]\n"
     ]
    }
   ],
   "source": [
    "print('sklearn sgd weight---\\n',w_sgd)\n",
    "print('*********************************************************************************')\n",
    "print('manual sgd weight---\\n',w)"
   ]
  },
  {
   "cell_type": "code",
   "execution_count": 102,
   "metadata": {},
   "outputs": [
    {
     "name": "stdout",
     "output_type": "stream",
     "text": [
      "number of points more than 30% in percent= 8\n"
     ]
    }
   ],
   "source": [
    "percent=abs((w_sgd-w)/w)*100\n",
    "cnt=0\n",
    "for i in range(13):\n",
    "    if (percent[0][i]>30):\n",
    "        cnt+=1\n",
    "w_num.append(cnt)\n",
    "print('number of points more than 30% in percent=',cnt)"
   ]
  },
  {
   "cell_type": "code",
   "execution_count": 103,
   "metadata": {},
   "outputs": [
    {
     "name": "stdout",
     "output_type": "stream",
     "text": [
      "sklearn sgd intercept= [22.63004335]\n",
      "manual sgd intercept= [19.81853613]\n"
     ]
    }
   ],
   "source": [
    "print('sklearn sgd intercept=',b_sgd)\n",
    "print('manual sgd intercept=',b)\n",
    "b_diff.append(abs(b_sgd-b))"
   ]
  },
  {
   "cell_type": "code",
   "execution_count": 104,
   "metadata": {},
   "outputs": [],
   "source": [
    "new=[4, 'manual sgd', 0.0001, 'constant', 0.01, 0.25, 100, manual_error]\n",
    "results.loc[3]=new"
   ]
  },
  {
   "cell_type": "code",
   "execution_count": null,
   "metadata": {},
   "outputs": [],
   "source": []
  },
  {
   "cell_type": "code",
   "execution_count": null,
   "metadata": {},
   "outputs": [],
   "source": []
  },
  {
   "cell_type": "markdown",
   "metadata": {},
   "source": [
    "### 1.5 SGDRegressor, n_iter=1000, lr_rate=0.01, lr_rate_variation='constant'"
   ]
  },
  {
   "cell_type": "code",
   "execution_count": 105,
   "metadata": {},
   "outputs": [
    {
     "data": {
      "image/png": "[encoded data removed]",
      "text/plain": [
       "<matplotlib.figure.Figure at 0x3fff2d0c5400>"
      ]
     },
     "metadata": {},
     "output_type": "display_data"
    },
    {
     "name": "stdout",
     "output_type": "stream",
     "text": [
      "***********************************************************\n",
      "mean sq error= 27.937633160007227\n",
      "number of iteration= 1000\n"
     ]
    }
   ],
   "source": [
    "w_sgd, b_sgd, error_sgd=sklearn_sgd(alpha=0.0001, lr_rate_variation='constant', eta0=0.01, n_iter=1000)"
   ]
  },
  {
   "cell_type": "code",
   "execution_count": 106,
   "metadata": {},
   "outputs": [],
   "source": [
    "new=[5, 'SGDRegressor', 0.0001, 'constant', 0.01, 0.25, 1000, error_sgd]\n",
    "results.loc[4]=new"
   ]
  },
  {
   "cell_type": "markdown",
   "metadata": {},
   "source": [
    "### 1.6 manual sgd, n_iter=1000, lr_rate=0.01, lr_rate_variation='constant'"
   ]
  },
  {
   "cell_type": "code",
   "execution_count": 107,
   "metadata": {},
   "outputs": [
    {
     "data": {
      "image/png": "[encoded data removed]",
      "text/plain": [
       "<matplotlib.figure.Figure at 0x3fff2d1c1f60>"
      ]
     },
     "metadata": {},
     "output_type": "display_data"
    },
    {
     "name": "stdout",
     "output_type": "stream",
     "text": [
      "**************************************************************\n",
      "error= 28.715571769031584\n"
     ]
    }
   ],
   "source": [
    "\n",
    "w, b=manual_fit(X=manual_train, lr_rate_variation='constant' , n_iter=1000)\n",
    "y_pred=pred(test_data, w=w, b=b)\n",
    "manual_error=plot_(test_data,y_pred)"
   ]
  },
  {
   "cell_type": "code",
   "execution_count": 108,
   "metadata": {},
   "outputs": [
    {
     "name": "stdout",
     "output_type": "stream",
     "text": [
      "sklearn sgd weight---\n",
      " [-1.34537691  0.8897758  -0.1886713   0.183283   -1.3000193   2.9597542\n",
      " -0.22311329 -2.87684979  3.04540382 -2.22196887 -2.19830817  0.99274593\n",
      " -3.39516832]\n",
      "*********************************************************************************\n",
      "manual sgd weight---\n",
      " [[-1.32145342  0.84111238 -0.50082887  0.09970994 -1.36476836  2.56922172\n",
      "  -0.37830626 -2.87731518  2.46793651 -1.22291347 -2.26022257  0.9423407\n",
      "  -3.35226073]]\n"
     ]
    }
   ],
   "source": [
    "print('sklearn sgd weight---\\n',w_sgd)\n",
    "print('*********************************************************************************')\n",
    "print('manual sgd weight---\\n',w)"
   ]
  },
  {
   "cell_type": "code",
   "execution_count": 109,
   "metadata": {},
   "outputs": [
    {
     "name": "stdout",
     "output_type": "stream",
     "text": [
      "number of points more than 30% in percent= 4\n"
     ]
    }
   ],
   "source": [
    "percent=abs((w_sgd-w)/w)*100\n",
    "cnt=0\n",
    "for i in range(13):\n",
    "    if (percent[0][i]>30):\n",
    "        cnt+=1\n",
    "w_num.append(cnt)\n",
    "print('number of points more than 30% in percent=',cnt)"
   ]
  },
  {
   "cell_type": "code",
   "execution_count": 110,
   "metadata": {},
   "outputs": [
    {
     "name": "stdout",
     "output_type": "stream",
     "text": [
      "sklearn sgd intercept= [22.88083494]\n",
      "manual sgd intercept= [22.53417493]\n"
     ]
    }
   ],
   "source": [
    "print('sklearn sgd intercept=',b_sgd)\n",
    "print('manual sgd intercept=',b)\n",
    "b_diff.append(abs(b_sgd-b))"
   ]
  },
  {
   "cell_type": "code",
   "execution_count": 111,
   "metadata": {},
   "outputs": [],
   "source": [
    "new=[6, 'manual sgd', 0.0001, 'constant', 0.01, 0.25, 1000, manual_error]\n",
    "results.loc[5]=new"
   ]
  },
  {
   "cell_type": "markdown",
   "metadata": {},
   "source": [
    "### 1.7 SGDRegressor, n_iter=10000, lr_rate=0.01, lr_rate_variation='constant'"
   ]
  },
  {
   "cell_type": "code",
   "execution_count": 112,
   "metadata": {},
   "outputs": [
    {
     "data": {
      "image/png": "[encoded data removed]",
      "text/plain": [
       "<matplotlib.figure.Figure at 0x3fff2d084588>"
      ]
     },
     "metadata": {},
     "output_type": "display_data"
    },
    {
     "name": "stdout",
     "output_type": "stream",
     "text": [
      "***********************************************************\n",
      "mean sq error= 33.450943163385986\n",
      "number of iteration= 10000\n"
     ]
    }
   ],
   "source": [
    "w_sgd, b_sgd, error_sgd=sklearn_sgd(alpha=0.0001, lr_rate_variation='constant', eta0=0.01, n_iter=10000)"
   ]
  },
  {
   "cell_type": "code",
   "execution_count": 113,
   "metadata": {},
   "outputs": [],
   "source": [
    "new=[7, 'SGDRegressor', 0.0001, 'constant', 0.01, 0.25, 10000, error_sgd]\n",
    "results.loc[6]=new"
   ]
  },
  {
   "cell_type": "markdown",
   "metadata": {},
   "source": [
    "### 1.8 manual sgd, n_iter=10000, lr_rate=0.01, lr_rate_variation='constant'"
   ]
  },
  {
   "cell_type": "code",
   "execution_count": 114,
   "metadata": {},
   "outputs": [
    {
     "data": {
      "image/png": "[encoded data removed]",
      "text/plain": [
       "<matplotlib.figure.Figure at 0x3fff2cda4518>"
      ]
     },
     "metadata": {},
     "output_type": "display_data"
    },
    {
     "name": "stdout",
     "output_type": "stream",
     "text": [
      "**************************************************************\n",
      "error= 29.756766863714148\n"
     ]
    }
   ],
   "source": [
    "\n",
    "w, b=manual_fit(X=manual_train, lr_rate_variation='constant' , n_iter=10000)\n",
    "y_pred=pred(test_data, w=w, b=b)\n",
    "manual_error=plot_(test_data,y_pred)"
   ]
  },
  {
   "cell_type": "code",
   "execution_count": 115,
   "metadata": {},
   "outputs": [
    {
     "name": "stdout",
     "output_type": "stream",
     "text": [
      "sklearn sgd weight---\n",
      " [-1.36094479  0.89764471 -0.39733237  0.31477308 -1.65340069  2.96797705\n",
      " -0.39234886 -2.54215416  2.5585151  -2.67070389 -2.05238445  1.42629492\n",
      " -3.37907957]\n",
      "*********************************************************************************\n",
      "manual sgd weight---\n",
      " [[-1.37796125  0.96283919 -0.15591904  0.02522011 -1.55036088  2.65693101\n",
      "  -0.37272644 -2.8043049   2.90950702 -2.28167746 -2.04179418  1.13504042\n",
      "  -3.15273839]]\n"
     ]
    }
   ],
   "source": [
    "print('sklearn sgd weight---\\n',w_sgd)\n",
    "print('*********************************************************************************')\n",
    "print('manual sgd weight---\\n',w)"
   ]
  },
  {
   "cell_type": "code",
   "execution_count": 116,
   "metadata": {},
   "outputs": [
    {
     "name": "stdout",
     "output_type": "stream",
     "text": [
      "number of points more than 30% in percent= 2\n"
     ]
    }
   ],
   "source": [
    "percent=abs((w_sgd-w)/w)*100\n",
    "cnt=0\n",
    "for i in range(13):\n",
    "    if (percent[0][i]>30):\n",
    "        cnt+=1\n",
    "w_num.append(cnt)\n",
    "print('number of points more than 30% in percent=',cnt)"
   ]
  },
  {
   "cell_type": "code",
   "execution_count": 117,
   "metadata": {},
   "outputs": [
    {
     "name": "stdout",
     "output_type": "stream",
     "text": [
      "sklearn sgd intercept= [22.68195516]\n",
      "manual sgd intercept= [22.33865171]\n"
     ]
    }
   ],
   "source": [
    "print('sklearn sgd intercept=',b_sgd)\n",
    "print('manual sgd intercept=',b)\n",
    "b_diff.append(abs(b_sgd-b))"
   ]
  },
  {
   "cell_type": "code",
   "execution_count": 118,
   "metadata": {},
   "outputs": [],
   "source": [
    "new=[8, 'manual sgd', 0.0001, 'constant', 0.01, 0.25, 10000, manual_error]\n",
    "results.loc[7]=new"
   ]
  },
  {
   "cell_type": "code",
   "execution_count": 119,
   "metadata": {},
   "outputs": [],
   "source": [
    "import tabulate\n",
    "table1 = [['n_iter', 'no. of points>30% in w', 'difference in intercept'],\n",
    "         [1,w_num[0], b_diff[0]], \n",
    "         [100, w_num[1], b_diff[1]],\n",
    "         [1000, w_num[2], b_diff[2]],\n",
    "         [10000, w_num[3], b_diff[3]]]\n"
   ]
  },
  {
   "cell_type": "code",
   "execution_count": 120,
   "metadata": {},
   "outputs": [
    {
     "name": "stdout",
     "output_type": "stream",
     "text": [
      "╒════════╤════════════════════════╤═════════════════════════╕\n",
      "│ n_iter │ no. of points>30% in w │ difference in intercept │\n",
      "├────────┼────────────────────────┼─────────────────────────┤\n",
      "│ 1      │ 13                     │ [21.32530444]           │\n",
      "├────────┼────────────────────────┼─────────────────────────┤\n",
      "│ 100    │ 8                      │ [2.81150721]            │\n",
      "├────────┼────────────────────────┼─────────────────────────┤\n",
      "│ 1000   │ 4                      │ [0.34666002]            │\n",
      "├────────┼────────────────────────┼─────────────────────────┤\n",
      "│ 10000  │ 2                      │ [0.34330345]            │\n",
      "╘════════╧════════════════════════╧═════════════════════════╛\n"
     ]
    }
   ],
   "source": [
    "print(tabulate.tabulate(table1, tablefmt='fancy_grid'))"
   ]
  },
  {
   "cell_type": "code",
   "execution_count": 121,
   "metadata": {},
   "outputs": [
    {
     "data": {
      "text/html": [
       "<div>\n",
       "<style>\n",
       "    .dataframe thead tr:only-child th {\n",
       "        text-align: right;\n",
       "    }\n",
       "\n",
       "    .dataframe thead th {\n",
       "        text-align: left;\n",
       "    }\n",
       "\n",
       "    .dataframe tbody tr th {\n",
       "        vertical-align: top;\n",
       "    }\n",
       "</style>\n",
       "<table border=\"1\" class=\"dataframe\">\n",
       "  <thead>\n",
       "    <tr style=\"text-align: right;\">\n",
       "      <th></th>\n",
       "      <th>sno</th>\n",
       "      <th>algo</th>\n",
       "      <th>alpha</th>\n",
       "      <th>lr_rate_variation</th>\n",
       "      <th>init_lr_rate</th>\n",
       "      <th>power_t</th>\n",
       "      <th>n_iter</th>\n",
       "      <th>error</th>\n",
       "    </tr>\n",
       "  </thead>\n",
       "  <tbody>\n",
       "    <tr>\n",
       "      <th>0</th>\n",
       "      <td>1</td>\n",
       "      <td>SGDRegressor</td>\n",
       "      <td>0.0001</td>\n",
       "      <td>constant</td>\n",
       "      <td>0.01</td>\n",
       "      <td>0.25</td>\n",
       "      <td>1</td>\n",
       "      <td>32.469432</td>\n",
       "    </tr>\n",
       "    <tr>\n",
       "      <th>1</th>\n",
       "      <td>2</td>\n",
       "      <td>manual sgd</td>\n",
       "      <td>0.0001</td>\n",
       "      <td>constant</td>\n",
       "      <td>0.01</td>\n",
       "      <td>0.25</td>\n",
       "      <td>1</td>\n",
       "      <td>581.624165</td>\n",
       "    </tr>\n",
       "    <tr>\n",
       "      <th>2</th>\n",
       "      <td>3</td>\n",
       "      <td>SGDRegressor</td>\n",
       "      <td>0.0001</td>\n",
       "      <td>constant</td>\n",
       "      <td>0.01</td>\n",
       "      <td>0.25</td>\n",
       "      <td>100</td>\n",
       "      <td>26.421014</td>\n",
       "    </tr>\n",
       "    <tr>\n",
       "      <th>3</th>\n",
       "      <td>4</td>\n",
       "      <td>manual sgd</td>\n",
       "      <td>0.0001</td>\n",
       "      <td>constant</td>\n",
       "      <td>0.01</td>\n",
       "      <td>0.25</td>\n",
       "      <td>100</td>\n",
       "      <td>40.930897</td>\n",
       "    </tr>\n",
       "    <tr>\n",
       "      <th>4</th>\n",
       "      <td>5</td>\n",
       "      <td>SGDRegressor</td>\n",
       "      <td>0.0001</td>\n",
       "      <td>constant</td>\n",
       "      <td>0.01</td>\n",
       "      <td>0.25</td>\n",
       "      <td>1000</td>\n",
       "      <td>27.937633</td>\n",
       "    </tr>\n",
       "    <tr>\n",
       "      <th>5</th>\n",
       "      <td>6</td>\n",
       "      <td>manual sgd</td>\n",
       "      <td>0.0001</td>\n",
       "      <td>constant</td>\n",
       "      <td>0.01</td>\n",
       "      <td>0.25</td>\n",
       "      <td>1000</td>\n",
       "      <td>28.715572</td>\n",
       "    </tr>\n",
       "    <tr>\n",
       "      <th>6</th>\n",
       "      <td>7</td>\n",
       "      <td>SGDRegressor</td>\n",
       "      <td>0.0001</td>\n",
       "      <td>constant</td>\n",
       "      <td>0.01</td>\n",
       "      <td>0.25</td>\n",
       "      <td>10000</td>\n",
       "      <td>33.450943</td>\n",
       "    </tr>\n",
       "    <tr>\n",
       "      <th>7</th>\n",
       "      <td>8</td>\n",
       "      <td>manual sgd</td>\n",
       "      <td>0.0001</td>\n",
       "      <td>constant</td>\n",
       "      <td>0.01</td>\n",
       "      <td>0.25</td>\n",
       "      <td>10000</td>\n",
       "      <td>29.756767</td>\n",
       "    </tr>\n",
       "  </tbody>\n",
       "</table>\n",
       "</div>"
      ],
      "text/plain": [
       "  sno          algo   alpha lr_rate_variation  init_lr_rate  power_t n_iter  \\\n",
       "0   1  SGDRegressor  0.0001          constant          0.01     0.25      1   \n",
       "1   2    manual sgd  0.0001          constant          0.01     0.25      1   \n",
       "2   3  SGDRegressor  0.0001          constant          0.01     0.25    100   \n",
       "3   4    manual sgd  0.0001          constant          0.01     0.25    100   \n",
       "4   5  SGDRegressor  0.0001          constant          0.01     0.25   1000   \n",
       "5   6    manual sgd  0.0001          constant          0.01     0.25   1000   \n",
       "6   7  SGDRegressor  0.0001          constant          0.01     0.25  10000   \n",
       "7   8    manual sgd  0.0001          constant          0.01     0.25  10000   \n",
       "\n",
       "        error  \n",
       "0   32.469432  \n",
       "1  581.624165  \n",
       "2   26.421014  \n",
       "3   40.930897  \n",
       "4   27.937633  \n",
       "5   28.715572  \n",
       "6   33.450943  \n",
       "7   29.756767  "
      ]
     },
     "execution_count": 121,
     "metadata": {},
     "output_type": "execute_result"
    }
   ],
   "source": [
    "results"
   ]
  },
  {
   "cell_type": "markdown",
   "metadata": {},
   "source": [
    "## Observation-\n",
    "* we have fixed learning rate and lr_rate_variation, and only changing n_iter\n",
    "* as we can see , by increasing manual sgd n_iter , error reducing.\n",
    "* with increase in iteration the number of element manual sgd weight and SGDRegressor weight is going to be more similar\n",
    "* with increasing the iteration number the intercept value also coming closer"
   ]
  },
  {
   "cell_type": "code",
   "execution_count": null,
   "metadata": {},
   "outputs": [],
   "source": []
  },
  {
   "cell_type": "code",
   "execution_count": null,
   "metadata": {},
   "outputs": [],
   "source": []
  },
  {
   "cell_type": "markdown",
   "metadata": {},
   "source": [
    "# Experiment 2-- using 'optimal' learning rate\n",
    "* using optimal learning rate variation and changing the n_iter"
   ]
  },
  {
   "cell_type": "code",
   "execution_count": 122,
   "metadata": {},
   "outputs": [],
   "source": [
    "b1_diff=[]\n",
    "w1_num=[]"
   ]
  },
  {
   "cell_type": "markdown",
   "metadata": {},
   "source": [
    "### 2.1 SGDRegressor, n_iter=1, lr_rate=0.01, lr_rate_variation='invscaling'"
   ]
  },
  {
   "cell_type": "code",
   "execution_count": 123,
   "metadata": {},
   "outputs": [
    {
     "data": {
      "image/png": "[encoded data removed]",
      "text/plain": [
       "<matplotlib.figure.Figure at 0x3fff2d04ee80>"
      ]
     },
     "metadata": {},
     "output_type": "display_data"
    },
    {
     "name": "stdout",
     "output_type": "stream",
     "text": [
      "***********************************************************\n",
      "mean sq error= 101.58053374738331\n",
      "number of iteration= 1\n"
     ]
    }
   ],
   "source": [
    "w_sgd, b_sgd, error_sgd=sklearn_sgd(alpha=0.0001, lr_rate_variation='invscaling', eta0=0.01, n_iter=1)"
   ]
  },
  {
   "cell_type": "code",
   "execution_count": 124,
   "metadata": {},
   "outputs": [],
   "source": [
    "new=[9, 'SGDRegressor', 0.0001, 'invscaling', 0.01, 0.25, 1, error_sgd]\n",
    "results.loc[8]=new"
   ]
  },
  {
   "cell_type": "markdown",
   "metadata": {},
   "source": [
    "### 2.2 manual sgd, n_iter=1, lr_rate=0.01, lr_rate_variation='invscaling'"
   ]
  },
  {
   "cell_type": "code",
   "execution_count": 125,
   "metadata": {},
   "outputs": [
    {
     "data": {
      "image/png": "[encoded data removed]",
      "text/plain": [
       "<matplotlib.figure.Figure at 0x3fff36a62358>"
      ]
     },
     "metadata": {},
     "output_type": "display_data"
    },
    {
     "name": "stdout",
     "output_type": "stream",
     "text": [
      "**************************************************************\n",
      "error= 578.8764857796865\n"
     ]
    }
   ],
   "source": [
    "\n",
    "w, b=manual_fit(X=manual_train, lr_rate_variation='invscaling' , n_iter=1)\n",
    "y_pred=pred(test_data, w=w, b=b)\n",
    "manual_error=plot_(test_data,y_pred)"
   ]
  },
  {
   "cell_type": "code",
   "execution_count": 126,
   "metadata": {},
   "outputs": [],
   "source": [
    "new=[10, 'manual sgd', 0.0001, 'invscaling', 0.01, 0.25, 1, manual_error]\n",
    "results.loc[9]=new"
   ]
  },
  {
   "cell_type": "code",
   "execution_count": 127,
   "metadata": {},
   "outputs": [
    {
     "name": "stdout",
     "output_type": "stream",
     "text": [
      "sklearn sgd weight---\n",
      " [-0.46854321  0.4724331  -0.6496289   0.16486177 -0.21711983  2.65847285\n",
      " -0.49965287 -0.83211868 -0.06008395 -0.85214502 -1.6239637   0.62380042\n",
      " -1.84834241]\n",
      "*********************************************************************************\n",
      "manual sgd weight---\n",
      " [[ 0.09207488 -0.14637757 -0.09939261  0.22252834 -0.06329277 -0.01724493\n",
      "  -0.12158593  0.0213669  -0.13893235 -0.18303903  0.05256919  0.03641551\n",
      "  -0.05460941]]\n"
     ]
    }
   ],
   "source": [
    "print('sklearn sgd weight---\\n',w_sgd)\n",
    "print('*********************************************************************************')\n",
    "print('manual sgd weight---\\n',w)"
   ]
  },
  {
   "cell_type": "code",
   "execution_count": 128,
   "metadata": {},
   "outputs": [
    {
     "name": "stdout",
     "output_type": "stream",
     "text": [
      "number of points more than 30% in percent= 12\n"
     ]
    }
   ],
   "source": [
    "percent=abs((w_sgd-w)/w)*100\n",
    "cnt=0\n",
    "for i in range(13):\n",
    "    if (percent[0][i]>30):\n",
    "        cnt+=1\n",
    "w1_num.append(cnt)\n",
    "print('number of points more than 30% in percent=',cnt)"
   ]
  },
  {
   "cell_type": "code",
   "execution_count": 129,
   "metadata": {},
   "outputs": [
    {
     "name": "stdout",
     "output_type": "stream",
     "text": [
      "sklearn sgd intercept= [14.80617437]\n",
      "manual sgd intercept= [0.4158]\n"
     ]
    }
   ],
   "source": [
    "print('sklearn sgd intercept=',b_sgd)\n",
    "print('manual sgd intercept=',b)\n",
    "b1_diff.append(abs(b_sgd-b))"
   ]
  },
  {
   "cell_type": "code",
   "execution_count": null,
   "metadata": {},
   "outputs": [],
   "source": []
  },
  {
   "cell_type": "markdown",
   "metadata": {},
   "source": [
    "### 2.3 SGDRegressor, n_iter=100, lr_rate=0.01, lr_rate_variation='invscaling'"
   ]
  },
  {
   "cell_type": "code",
   "execution_count": 130,
   "metadata": {},
   "outputs": [
    {
     "data": {
      "image/png": "[encoded data removed]",
      "text/plain": [
       "<matplotlib.figure.Figure at 0x3fff2d124438>"
      ]
     },
     "metadata": {},
     "output_type": "display_data"
    },
    {
     "name": "stdout",
     "output_type": "stream",
     "text": [
      "***********************************************************\n",
      "mean sq error= 28.520739561292004\n",
      "number of iteration= 100\n"
     ]
    }
   ],
   "source": [
    "w_sgd, b_sgd, error_sgd=sklearn_sgd(alpha=0.0001, lr_rate_variation='invscaling', eta0=0.01, n_iter=100)"
   ]
  },
  {
   "cell_type": "code",
   "execution_count": 131,
   "metadata": {},
   "outputs": [],
   "source": [
    "new=[11, 'SGDRegressor', 0.0001, 'invscaling', 0.01, 0.25, 100, error_sgd]\n",
    "results.loc[10]=new"
   ]
  },
  {
   "cell_type": "markdown",
   "metadata": {},
   "source": [
    "### 2.4 manual sgd, n_iter=100, lr_rate=0.01, lr_rate_variation='invscaling'"
   ]
  },
  {
   "cell_type": "code",
   "execution_count": 132,
   "metadata": {},
   "outputs": [
    {
     "data": {
      "image/png": "[encoded data removed]",
      "text/plain": [
       "<matplotlib.figure.Figure at 0x3fff36a46780>"
      ]
     },
     "metadata": {},
     "output_type": "display_data"
    },
    {
     "name": "stdout",
     "output_type": "stream",
     "text": [
      "**************************************************************\n",
      "error= 141.29104924426753\n"
     ]
    }
   ],
   "source": [
    "\n",
    "w, b=manual_fit(X=manual_train, lr_rate_variation='invscaling' , n_iter=100)\n",
    "y_pred=pred(test_data, w=w, b=b)\n",
    "manual_error=plot_(test_data,y_pred)"
   ]
  },
  {
   "cell_type": "code",
   "execution_count": 133,
   "metadata": {},
   "outputs": [],
   "source": [
    "new=[12, 'manual sgd', 0.0001, 'invscaling', 0.01, 0.25, 100, manual_error]\n",
    "results.loc[11]=new"
   ]
  },
  {
   "cell_type": "code",
   "execution_count": 134,
   "metadata": {},
   "outputs": [
    {
     "name": "stdout",
     "output_type": "stream",
     "text": [
      "sklearn sgd weight---\n",
      " [-1.28894266  0.83378893 -0.27388982  0.19259325 -1.48220185  2.818715\n",
      " -0.35469951 -2.78418868  2.62774407 -1.87686818 -2.1187219   1.05589147\n",
      " -3.32980906]\n",
      "*********************************************************************************\n",
      "manual sgd weight---\n",
      " [[-0.47336964  0.27569868 -0.66478012  0.07329669 -0.70365531  2.17159412\n",
      "  -0.45335688 -0.49509334 -0.27766142 -0.54942043 -1.43280873  0.72796356\n",
      "  -1.77741166]]\n"
     ]
    }
   ],
   "source": [
    "print('sklearn sgd weight---\\n',w_sgd)\n",
    "print('*********************************************************************************')\n",
    "print('manual sgd weight---\\n',w)"
   ]
  },
  {
   "cell_type": "code",
   "execution_count": 135,
   "metadata": {},
   "outputs": [
    {
     "name": "stdout",
     "output_type": "stream",
     "text": [
      "number of points more than 30% in percent= 11\n"
     ]
    }
   ],
   "source": [
    "percent=abs((w_sgd-w)/w)*100\n",
    "cnt=0\n",
    "for i in range(13):\n",
    "    if (percent[0][i]>30):\n",
    "        cnt+=1\n",
    "w1_num.append(cnt)\n",
    "print('number of points more than 30% in percent=',cnt)"
   ]
  },
  {
   "cell_type": "code",
   "execution_count": 136,
   "metadata": {},
   "outputs": [
    {
     "name": "stdout",
     "output_type": "stream",
     "text": [
      "sklearn sgd intercept= [22.54763312]\n",
      "manual sgd intercept= [12.82409838]\n"
     ]
    }
   ],
   "source": [
    "print('sklearn sgd intercept=',b_sgd)\n",
    "print('manual sgd intercept=',b)\n",
    "b1_diff.append(abs(b_sgd-b))"
   ]
  },
  {
   "cell_type": "code",
   "execution_count": null,
   "metadata": {},
   "outputs": [],
   "source": []
  },
  {
   "cell_type": "markdown",
   "metadata": {},
   "source": [
    "### 2.5 SGDRegressor, n_iter=1000, lr_rate=0.01, lr_rate_variation='invscaling'"
   ]
  },
  {
   "cell_type": "code",
   "execution_count": 137,
   "metadata": {},
   "outputs": [
    {
     "data": {
      "image/png": "[encoded data removed]",
      "text/plain": [
       "<matplotlib.figure.Figure at 0x3fff2d086b38>"
      ]
     },
     "metadata": {},
     "output_type": "display_data"
    },
    {
     "name": "stdout",
     "output_type": "stream",
     "text": [
      "***********************************************************\n",
      "mean sq error= 28.486745880890606\n",
      "number of iteration= 1000\n"
     ]
    }
   ],
   "source": [
    "w_sgd, b_sgd, error_sgd=sklearn_sgd(alpha=0.0001, lr_rate_variation='invscaling', eta0=0.01, n_iter=1000)"
   ]
  },
  {
   "cell_type": "code",
   "execution_count": 138,
   "metadata": {},
   "outputs": [],
   "source": [
    "new=[13, 'SGDRegressor', 0.0001, 'invscaling', 0.01, 0.25, 1000, error_sgd]\n",
    "results.loc[12]=new"
   ]
  },
  {
   "cell_type": "markdown",
   "metadata": {},
   "source": [
    "### 2.6 manual sgd, n_iter=1000, lr_rate=0.01, lr_rate_variation='invscaling'"
   ]
  },
  {
   "cell_type": "code",
   "execution_count": 139,
   "metadata": {},
   "outputs": [
    {
     "data": {
      "image/png": "[encoded data removed]",
      "text/plain": [
       "<matplotlib.figure.Figure at 0x3fff2d038208>"
      ]
     },
     "metadata": {},
     "output_type": "display_data"
    },
    {
     "name": "stdout",
     "output_type": "stream",
     "text": [
      "**************************************************************\n",
      "error= 30.341260603855936\n"
     ]
    }
   ],
   "source": [
    "\n",
    "w, b=manual_fit(X=manual_train, lr_rate_variation='invscaling' , n_iter=1000)\n",
    "y_pred=pred(test_data, w=w, b=b)\n",
    "manual_error=plot_(test_data,y_pred)"
   ]
  },
  {
   "cell_type": "code",
   "execution_count": 140,
   "metadata": {},
   "outputs": [],
   "source": [
    "new=[14, 'manual sgd', 0.0001, 'invscaling', 0.01, 0.25, 1000, manual_error]\n",
    "results.loc[13]=new"
   ]
  },
  {
   "cell_type": "code",
   "execution_count": 141,
   "metadata": {},
   "outputs": [
    {
     "name": "stdout",
     "output_type": "stream",
     "text": [
      "sklearn sgd weight---\n",
      " [-1.30942253  0.8574275  -0.16241595  0.18699791 -1.48256772  2.77786572\n",
      " -0.31772189 -2.77676449  2.98086019 -2.26890425 -2.13146151  1.05516787\n",
      " -3.32856774]\n",
      "*********************************************************************************\n",
      "manual sgd weight---\n",
      " [[-1.00402039  0.34507519 -0.63875838  0.18570054 -0.60304093  3.14183048\n",
      "  -0.37921798 -1.9099759   0.75611146 -0.47484811 -1.93973178  0.97591047\n",
      "  -3.12890969]]\n"
     ]
    }
   ],
   "source": [
    "print('sklearn sgd weight---\\n',w_sgd)\n",
    "print('*********************************************************************************')\n",
    "print('manual sgd weight---\\n',w)"
   ]
  },
  {
   "cell_type": "code",
   "execution_count": 142,
   "metadata": {},
   "outputs": [
    {
     "name": "stdout",
     "output_type": "stream",
     "text": [
      "number of points more than 30% in percent= 7\n"
     ]
    }
   ],
   "source": [
    "percent=abs((w_sgd-w)/w)*100\n",
    "cnt=0\n",
    "for i in range(13):\n",
    "    if (percent[0][i]>30):\n",
    "        cnt+=1\n",
    "w1_num.append(cnt)\n",
    "print('number of points more than 30% in percent=',cnt)"
   ]
  },
  {
   "cell_type": "code",
   "execution_count": 143,
   "metadata": {},
   "outputs": [
    {
     "name": "stdout",
     "output_type": "stream",
     "text": [
      "sklearn sgd intercept= [22.53830622]\n",
      "manual sgd intercept= [22.34256084]\n"
     ]
    }
   ],
   "source": [
    "print('sklearn sgd intercept=',b_sgd)\n",
    "print('manual sgd intercept=',b)\n",
    "b1_diff.append(abs(b_sgd-b))"
   ]
  },
  {
   "cell_type": "code",
   "execution_count": null,
   "metadata": {},
   "outputs": [],
   "source": []
  },
  {
   "cell_type": "markdown",
   "metadata": {},
   "source": [
    "### 2.7 SGDRegressor, n_iter=10000, lr_rate=0.01, lr_rate_variation='invscaling'"
   ]
  },
  {
   "cell_type": "code",
   "execution_count": 144,
   "metadata": {},
   "outputs": [
    {
     "data": {
      "image/png": "[encoded data removed]",
      "text/plain": [
       "<matplotlib.figure.Figure at 0x3fff2cfe9ef0>"
      ]
     },
     "metadata": {},
     "output_type": "display_data"
    },
    {
     "name": "stdout",
     "output_type": "stream",
     "text": [
      "***********************************************************\n",
      "mean sq error= 28.49430793794667\n",
      "number of iteration= 10000\n"
     ]
    }
   ],
   "source": [
    "w_sgd, b_sgd, error_sgd=sklearn_sgd(alpha=0.0001, lr_rate_variation='invscaling', eta0=0.01, n_iter=10000)"
   ]
  },
  {
   "cell_type": "code",
   "execution_count": 145,
   "metadata": {},
   "outputs": [],
   "source": [
    "new=[15, 'SGDRegressor', 0.0001, 'invscaling', 0.01, 0.25, 10000, error_sgd]\n",
    "results.loc[14]=new"
   ]
  },
  {
   "cell_type": "markdown",
   "metadata": {},
   "source": [
    "### 2.8 manual sgd, n_iter=10000, lr_rate=0.01, lr_rate_variation='invscaling'"
   ]
  },
  {
   "cell_type": "code",
   "execution_count": 146,
   "metadata": {},
   "outputs": [
    {
     "data": {
      "image/png": "[encoded data removed]",
      "text/plain": [
       "<matplotlib.figure.Figure at 0x3fff2cf762b0>"
      ]
     },
     "metadata": {},
     "output_type": "display_data"
    },
    {
     "name": "stdout",
     "output_type": "stream",
     "text": [
      "**************************************************************\n",
      "error= 28.406428232673615\n"
     ]
    }
   ],
   "source": [
    "\n",
    "w, b=manual_fit(X=manual_train, lr_rate_variation='invscaling' , n_iter=10000)\n",
    "y_pred=pred(test_data, w=w, b=b)\n",
    "manual_error=plot_(test_data,y_pred)"
   ]
  },
  {
   "cell_type": "code",
   "execution_count": 147,
   "metadata": {},
   "outputs": [],
   "source": [
    "new=[16, 'manual sgd', 0.0001, 'invscaling', 0.01, 0.25, 10000, manual_error]\n",
    "results.loc[15]=new"
   ]
  },
  {
   "cell_type": "code",
   "execution_count": 148,
   "metadata": {},
   "outputs": [
    {
     "name": "stdout",
     "output_type": "stream",
     "text": [
      "sklearn sgd weight---\n",
      " [-1.31056959  0.85903795 -0.16178747  0.18803679 -1.48263168  2.78621625\n",
      " -0.32223626 -2.77652255  2.98167093 -2.26832894 -2.12989636  1.05575739\n",
      " -3.33035346]\n",
      "*********************************************************************************\n",
      "manual sgd weight---\n",
      " [[-1.2288143   0.77118322 -0.31242219  0.16356881 -1.39009861  2.8989614\n",
      "  -0.30770978 -2.74835738  2.45079942 -1.65732448 -2.16402752  1.05292411\n",
      "  -3.26737259]]\n"
     ]
    }
   ],
   "source": [
    "print('sklearn sgd weight---\\n',w_sgd)\n",
    "print('*********************************************************************************')\n",
    "print('manual sgd weight---\\n',w)"
   ]
  },
  {
   "cell_type": "code",
   "execution_count": 149,
   "metadata": {},
   "outputs": [
    {
     "name": "stdout",
     "output_type": "stream",
     "text": [
      "number of points more than 30% in percent= 2\n"
     ]
    }
   ],
   "source": [
    "percent=abs((w_sgd-w)/w)*100\n",
    "cnt=0\n",
    "for i in range(13):\n",
    "    if (percent[0][i]>30):\n",
    "        cnt+=1\n",
    "w1_num.append(cnt)\n",
    "print('number of points more than 30% in percent=',cnt)"
   ]
  },
  {
   "cell_type": "code",
   "execution_count": 150,
   "metadata": {},
   "outputs": [
    {
     "name": "stdout",
     "output_type": "stream",
     "text": [
      "sklearn sgd intercept= [22.53724582]\n",
      "manual sgd intercept= [22.56382067]\n"
     ]
    }
   ],
   "source": [
    "print('sklearn sgd intercept=',b_sgd)\n",
    "print('manual sgd intercept=',b)\n",
    "b1_diff.append(abs(b_sgd-b))"
   ]
  },
  {
   "cell_type": "code",
   "execution_count": null,
   "metadata": {},
   "outputs": [],
   "source": []
  },
  {
   "cell_type": "code",
   "execution_count": 151,
   "metadata": {},
   "outputs": [
    {
     "data": {
      "text/html": [
       "<div>\n",
       "<style>\n",
       "    .dataframe thead tr:only-child th {\n",
       "        text-align: right;\n",
       "    }\n",
       "\n",
       "    .dataframe thead th {\n",
       "        text-align: left;\n",
       "    }\n",
       "\n",
       "    .dataframe tbody tr th {\n",
       "        vertical-align: top;\n",
       "    }\n",
       "</style>\n",
       "<table border=\"1\" class=\"dataframe\">\n",
       "  <thead>\n",
       "    <tr style=\"text-align: right;\">\n",
       "      <th></th>\n",
       "      <th>sno</th>\n",
       "      <th>algo</th>\n",
       "      <th>alpha</th>\n",
       "      <th>lr_rate_variation</th>\n",
       "      <th>init_lr_rate</th>\n",
       "      <th>power_t</th>\n",
       "      <th>n_iter</th>\n",
       "      <th>error</th>\n",
       "    </tr>\n",
       "  </thead>\n",
       "  <tbody>\n",
       "    <tr>\n",
       "      <th>8</th>\n",
       "      <td>9</td>\n",
       "      <td>SGDRegressor</td>\n",
       "      <td>0.0001</td>\n",
       "      <td>invscaling</td>\n",
       "      <td>0.01</td>\n",
       "      <td>0.25</td>\n",
       "      <td>1</td>\n",
       "      <td>101.580534</td>\n",
       "    </tr>\n",
       "    <tr>\n",
       "      <th>9</th>\n",
       "      <td>10</td>\n",
       "      <td>manual sgd</td>\n",
       "      <td>0.0001</td>\n",
       "      <td>invscaling</td>\n",
       "      <td>0.01</td>\n",
       "      <td>0.25</td>\n",
       "      <td>1</td>\n",
       "      <td>578.876486</td>\n",
       "    </tr>\n",
       "    <tr>\n",
       "      <th>10</th>\n",
       "      <td>11</td>\n",
       "      <td>SGDRegressor</td>\n",
       "      <td>0.0001</td>\n",
       "      <td>invscaling</td>\n",
       "      <td>0.01</td>\n",
       "      <td>0.25</td>\n",
       "      <td>100</td>\n",
       "      <td>28.520740</td>\n",
       "    </tr>\n",
       "    <tr>\n",
       "      <th>11</th>\n",
       "      <td>12</td>\n",
       "      <td>manual sgd</td>\n",
       "      <td>0.0001</td>\n",
       "      <td>invscaling</td>\n",
       "      <td>0.01</td>\n",
       "      <td>0.25</td>\n",
       "      <td>100</td>\n",
       "      <td>141.291049</td>\n",
       "    </tr>\n",
       "    <tr>\n",
       "      <th>12</th>\n",
       "      <td>13</td>\n",
       "      <td>SGDRegressor</td>\n",
       "      <td>0.0001</td>\n",
       "      <td>invscaling</td>\n",
       "      <td>0.01</td>\n",
       "      <td>0.25</td>\n",
       "      <td>1000</td>\n",
       "      <td>28.486746</td>\n",
       "    </tr>\n",
       "    <tr>\n",
       "      <th>13</th>\n",
       "      <td>14</td>\n",
       "      <td>manual sgd</td>\n",
       "      <td>0.0001</td>\n",
       "      <td>invscaling</td>\n",
       "      <td>0.01</td>\n",
       "      <td>0.25</td>\n",
       "      <td>1000</td>\n",
       "      <td>30.341261</td>\n",
       "    </tr>\n",
       "    <tr>\n",
       "      <th>14</th>\n",
       "      <td>15</td>\n",
       "      <td>SGDRegressor</td>\n",
       "      <td>0.0001</td>\n",
       "      <td>invscaling</td>\n",
       "      <td>0.01</td>\n",
       "      <td>0.25</td>\n",
       "      <td>10000</td>\n",
       "      <td>28.494308</td>\n",
       "    </tr>\n",
       "    <tr>\n",
       "      <th>15</th>\n",
       "      <td>16</td>\n",
       "      <td>manual sgd</td>\n",
       "      <td>0.0001</td>\n",
       "      <td>invscaling</td>\n",
       "      <td>0.01</td>\n",
       "      <td>0.25</td>\n",
       "      <td>10000</td>\n",
       "      <td>28.406428</td>\n",
       "    </tr>\n",
       "  </tbody>\n",
       "</table>\n",
       "</div>"
      ],
      "text/plain": [
       "   sno          algo   alpha lr_rate_variation  init_lr_rate  power_t n_iter  \\\n",
       "8    9  SGDRegressor  0.0001        invscaling          0.01     0.25      1   \n",
       "9   10    manual sgd  0.0001        invscaling          0.01     0.25      1   \n",
       "10  11  SGDRegressor  0.0001        invscaling          0.01     0.25    100   \n",
       "11  12    manual sgd  0.0001        invscaling          0.01     0.25    100   \n",
       "12  13  SGDRegressor  0.0001        invscaling          0.01     0.25   1000   \n",
       "13  14    manual sgd  0.0001        invscaling          0.01     0.25   1000   \n",
       "14  15  SGDRegressor  0.0001        invscaling          0.01     0.25  10000   \n",
       "15  16    manual sgd  0.0001        invscaling          0.01     0.25  10000   \n",
       "\n",
       "         error  \n",
       "8   101.580534  \n",
       "9   578.876486  \n",
       "10   28.520740  \n",
       "11  141.291049  \n",
       "12   28.486746  \n",
       "13   30.341261  \n",
       "14   28.494308  \n",
       "15   28.406428  "
      ]
     },
     "execution_count": 151,
     "metadata": {},
     "output_type": "execute_result"
    }
   ],
   "source": [
    "results[8:]"
   ]
  },
  {
   "cell_type": "code",
   "execution_count": 152,
   "metadata": {},
   "outputs": [
    {
     "name": "stdout",
     "output_type": "stream",
     "text": [
      "╒════════╤════════════════════════╤═════════════════════════╕\n",
      "│ n_iter │ no. of points>30% in w │ difference in intercept │\n",
      "├────────┼────────────────────────┼─────────────────────────┤\n",
      "│ 1      │ 12                     │ [14.39037437]           │\n",
      "├────────┼────────────────────────┼─────────────────────────┤\n",
      "│ 100    │ 11                     │ [9.72353475]            │\n",
      "├────────┼────────────────────────┼─────────────────────────┤\n",
      "│ 1000   │ 7                      │ [0.19574538]            │\n",
      "├────────┼────────────────────────┼─────────────────────────┤\n",
      "│ 10000  │ 2                      │ [0.02657485]            │\n",
      "╘════════╧════════════════════════╧═════════════════════════╛\n"
     ]
    }
   ],
   "source": [
    "import tabulate\n",
    "table2 = [['n_iter', 'no. of points>30% in w', 'difference in intercept'],\n",
    "         [1,w1_num[0], b1_diff[0]], \n",
    "         [100, w1_num[1], b1_diff[1]],\n",
    "         [1000, w1_num[2], b1_diff[2]],\n",
    "         [10000, w1_num[3], b1_diff[3]]]\n",
    "print(tabulate.tabulate(table2, tablefmt='fancy_grid'))\n"
   ]
  },
  {
   "cell_type": "markdown",
   "metadata": {},
   "source": [
    "### Observation-\n",
    "* by increasing iteration number, weights of SGDRegressor and manual sgd becomes more similar\n",
    "* with increasing in n_iter, the difference in intercepts of SGDRegressor and manual sgd becomes lesser"
   ]
  },
  {
   "cell_type": "code",
   "execution_count": null,
   "metadata": {},
   "outputs": [],
   "source": []
  },
  {
   "cell_type": "markdown",
   "metadata": {},
   "source": [
    "## Conclusion-\n",
    "* we have taken boston house price dataset \n",
    "* we prepared the data for training and testing\n",
    "* we used column standardization\n",
    "* we have SGDRegressor and manual sgd regressor implemented here\n",
    "* we didn't use any regularization term\n",
    "* we have taken 'constant' and 'invscaling' learning rate variation in SGDRegressor and the same in manual sgd regressor\n",
    "* in both 'constant' and 'invscaling' implementation we have seen that with higher number of iteration , manual sgd seems similar to SGDRegressor \n",
    "* in manual sgd regressor , error reduces with increasing in iteration number"
   ]
  },
  {
   "cell_type": "code",
   "execution_count": null,
   "metadata": {},
   "outputs": [],
   "source": []
  },
  {
   "cell_type": "code",
   "execution_count": null,
   "metadata": {},
   "outputs": [],
   "source": []
  },
  {
   "cell_type": "code",
   "execution_count": null,
   "metadata": {},
   "outputs": [],
   "source": []
  }
 ],
 "metadata": {
  "kernelspec": {
   "display_name": "Python 3",
   "language": "python",
   "name": "python3"
  },
  "language_info": {
   "codemirror_mode": {
    "name": "ipython",
    "version": 3
   },
   "file_extension": ".py",
   "mimetype": "text/x-python",
   "name": "python",
   "nbconvert_exporter": "python",
   "pygments_lexer": "ipython3",
   "version": "3.6.5"
  }
 },
 "nbformat": 4,
 "nbformat_minor": 2
}
